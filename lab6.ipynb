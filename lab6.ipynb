{
 "cells": [
  {
   "cell_type": "markdown",
   "id": "decd5507",
   "metadata": {},
   "source": [
    "## Lab 6"
   ]
  },
  {
   "cell_type": "code",
   "execution_count": 4,
   "id": "066ecfcc-37fe-41a0-8527-d2aa28c8ac73",
   "metadata": {
    "tags": []
   },
   "outputs": [],
   "source": [
    "# A: Start\n",
    "# B: Target\n",
    "# C: Spare\n",
    "# n: Number of disks\n",
    "def hanoi(n, a, b, c):\n",
    "    if n == 1:\n",
    "        print(\"Move from \" + a + \" to \" + b)\n",
    "    else:\n",
    "        hanoi(n-1, a, c, b) # Swapped our target and spare\n",
    "        print(\"Move from \" + a + \" to \" + b)\n",
    "        hanoi(n-1, c, b, a) \n",
    "        "
   ]
  },
  {
   "cell_type": "code",
   "execution_count": 7,
   "id": "2e1cc840-1d29-49be-ad62-f62f32e72ef6",
   "metadata": {
    "tags": []
   },
   "outputs": [
    {
     "name": "stdout",
     "output_type": "stream",
     "text": [
      "Move from 1 to 2\n",
      "Move from 1 to 3\n",
      "Move from 2 to 3\n",
      "Move from 1 to 2\n",
      "Move from 3 to 1\n",
      "Move from 3 to 2\n",
      "Move from 1 to 2\n",
      "Move from 1 to 3\n",
      "Move from 2 to 3\n",
      "Move from 2 to 1\n",
      "Move from 3 to 1\n",
      "Move from 2 to 3\n",
      "Move from 1 to 2\n",
      "Move from 1 to 3\n",
      "Move from 2 to 3\n"
     ]
    }
   ],
   "source": [
    "hanoi(4, \"1\", \"3\", \"2\")"
   ]
  },
  {
   "cell_type": "code",
   "execution_count": 36,
   "id": "2b589966-32fb-408c-9793-08469c022bc6",
   "metadata": {
    "tags": []
   },
   "outputs": [],
   "source": [
    "def fact(n):\n",
    "    if n == 0:  # Base case\n",
    "        return 1\n",
    "    else:       # Recursive case\n",
    "        # print(f\"I'm at {n}\")\n",
    "        return n * fact(n-1)"
   ]
  },
  {
   "cell_type": "code",
   "execution_count": 37,
   "id": "09c358c6-aec3-4338-9214-bd167a04a5e3",
   "metadata": {
    "tags": []
   },
   "outputs": [
    {
     "data": {
      "text/plain": [
       "6"
      ]
     },
     "execution_count": 37,
     "metadata": {},
     "output_type": "execute_result"
    }
   ],
   "source": [
    "fact(3)"
   ]
  },
  {
   "cell_type": "code",
   "execution_count": 42,
   "id": "a507a0d5-409c-414c-99e6-041be79b6707",
   "metadata": {
    "tags": []
   },
   "outputs": [],
   "source": [
    "# Do you understand whats happening here?\n",
    "def perm(x):\n",
    "    if len(x) == 1:  # Base case\n",
    "        return [x]\n",
    "    permutations = []\n",
    "    \n",
    "    for i, char in enumerate(x):\n",
    "        # print(f\"{i}, {char}\")\n",
    "        \n",
    "        # A string without our current character i\n",
    "        a = x[:i] + x[i+1:]\n",
    "        \n",
    "        # Permutations of our string without current char\n",
    "        perms_a = perm(a)\n",
    "        \n",
    "        for p in perms_a:\n",
    "            permutations.append(char + p)\n",
    "            \n",
    "    return permutations"
   ]
  },
  {
   "cell_type": "code",
   "execution_count": 39,
   "id": "50dd87cc-9eba-448a-bd63-ff96a73663c4",
   "metadata": {
    "tags": []
   },
   "outputs": [
    {
     "data": {
      "text/plain": [
       "['abc', 'acb', 'bac', 'bca', 'cab', 'cba']"
      ]
     },
     "execution_count": 39,
     "metadata": {},
     "output_type": "execute_result"
    }
   ],
   "source": [
    "perm(\"abc\")"
   ]
  },
  {
   "cell_type": "code",
   "execution_count": 40,
   "id": "7c99ea87-bf18-49e8-b2fe-d425c5f8c960",
   "metadata": {
    "tags": []
   },
   "outputs": [
    {
     "name": "stdout",
     "output_type": "stream",
     "text": [
      "All assertions passed without a problem\n"
     ]
    }
   ],
   "source": [
    "assert sorted(perm(\"hat\")) == sorted(['hat', 'aht', 'ath', 'hta', 'tha', 'tah']), \"First assert fails.\"\n",
    "assert len(perm(\"race\")) == fact(len(\"race\")), \"Second assert fails.\"\n",
    "assert len(perm(\"whatever\")) == 40320, \"Third assert failed.\"\n",
    "print (\"All assertions passed without a problem\")"
   ]
  },
  {
   "cell_type": "markdown",
   "id": "86357ff4",
   "metadata": {},
   "source": [
    "### Regex visualization tool\n",
    "\n",
    "Go to regexr.com. The pattern to match is on the top, there's a cheatsheet on the left to see what kind of patterns you can make"
   ]
  },
  {
   "cell_type": "code",
   "execution_count": null,
   "id": "4de2b152-3e0a-4cae-8906-c0e4648af50c",
   "metadata": {
    "tags": []
   },
   "outputs": [
    {
     "name": "stdout",
     "output_type": "stream",
     "text": [
      "First transformation:\n",
      "(1)(2)(3)(4)(5) (6)(7)(8)(9)\n"
     ]
    }
   ],
   "source": [
    "import re\n",
    "\n",
    "digits = \"12345 6789\"\n",
    "\n",
    "first_transformation = re.sub('(\\d)', r\"(\\1)\", digits)\n",
    "\n",
    "print(\"First transformation:\")\n",
    "print(first_transformation)"
   ]
  },
  {
   "cell_type": "code",
   "execution_count": 50,
   "id": "51b8a258-f7b3-4537-baeb-6ad89d93f23e",
   "metadata": {
    "tags": []
   },
   "outputs": [
    {
     "data": {
      "text/plain": [
       "'21435 7698'"
      ]
     },
     "execution_count": 50,
     "metadata": {},
     "output_type": "execute_result"
    }
   ],
   "source": [
    "digits = \"12345 6789\"\n",
    "\n",
    "re.sub('(\\d)(\\d)', r\"\\2\\1\", digits)"
   ]
  },
  {
   "cell_type": "code",
   "execution_count": 55,
   "id": "109f25d0-7a20-4e4e-9759-96acbc6ae07a",
   "metadata": {
    "tags": []
   },
   "outputs": [
    {
     "data": {
      "text/plain": [
       "'375 1317'"
      ]
     },
     "execution_count": 55,
     "metadata": {},
     "output_type": "execute_result"
    }
   ],
   "source": [
    "digits = \"12345 6789\"\n",
    "\n",
    "def add(a,b):\n",
    "    return int(a)+int(b)\n",
    "\n",
    "def radd(match):\n",
    "    a = match.group(1)\n",
    "    b = match.group(2)\n",
    "    # print(f\"a: {a}, b: {b}\")\n",
    "    return str(add(a,b))\n",
    "    \n",
    "re.sub('(\\d)(\\d)', radd, digits)"
   ]
  },
  {
   "cell_type": "code",
   "execution_count": null,
   "id": "13a383a2-a915-4e17-9541-8308535ef17c",
   "metadata": {},
   "outputs": [],
   "source": []
  },
  {
   "cell_type": "code",
   "execution_count": null,
   "id": "35290100-0408-4f0d-bf68-4b3087c3b227",
   "metadata": {},
   "outputs": [],
   "source": []
  }
 ],
 "metadata": {
  "kernelspec": {
   "display_name": "Python 3 (ipykernel)",
   "language": "python",
   "name": "python3"
  },
  "language_info": {
   "codemirror_mode": {
    "name": "ipython",
    "version": 3
   },
   "file_extension": ".py",
   "mimetype": "text/x-python",
   "name": "python",
   "nbconvert_exporter": "python",
   "pygments_lexer": "ipython3",
   "version": "3.11.4"
  }
 },
 "nbformat": 4,
 "nbformat_minor": 5
}
